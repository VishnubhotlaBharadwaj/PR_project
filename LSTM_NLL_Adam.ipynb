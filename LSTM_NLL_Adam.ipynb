{
 "cells": [
  {
   "cell_type": "code",
   "execution_count": 1,
   "id": "aa842e90-bc96-4382-8635-ce89ddedbfc0",
   "metadata": {},
   "outputs": [
    {
     "name": "stdout",
     "output_type": "stream",
     "text": [
      "Defaulting to user installation because normal site-packages is not writeable\n",
      "Requirement already satisfied: datasets in ./.local/lib/python3.8/site-packages (2.14.2)\n",
      "Requirement already satisfied: multiprocess in ./.local/lib/python3.8/site-packages (from datasets) (0.70.15)\n",
      "Requirement already satisfied: requests>=2.19.0 in ./.local/lib/python3.8/site-packages (from datasets) (2.28.2)\n",
      "Requirement already satisfied: tqdm>=4.62.1 in ./.local/lib/python3.8/site-packages (from datasets) (4.64.1)\n",
      "Requirement already satisfied: dill<0.3.8,>=0.3.0 in ./.local/lib/python3.8/site-packages (from datasets) (0.3.7)\n",
      "Requirement already satisfied: fsspec[http]>=2021.11.1 in ./.local/lib/python3.8/site-packages (from datasets) (2023.6.0)\n",
      "Requirement already satisfied: huggingface-hub<1.0.0,>=0.14.0 in ./.local/lib/python3.8/site-packages (from datasets) (0.16.4)\n",
      "Requirement already satisfied: packaging in ./.local/lib/python3.8/site-packages (from datasets) (23.0)\n",
      "Requirement already satisfied: pyarrow>=8.0.0 in ./.local/lib/python3.8/site-packages (from datasets) (12.0.1)\n",
      "Requirement already satisfied: pyyaml>=5.1 in /usr/lib/python3/dist-packages (from datasets) (5.3.1)\n",
      "Requirement already satisfied: aiohttp in ./.local/lib/python3.8/site-packages (from datasets) (3.8.5)\n",
      "Requirement already satisfied: numpy>=1.17 in ./.local/lib/python3.8/site-packages (from datasets) (1.23.5)\n",
      "Requirement already satisfied: pandas in ./.local/lib/python3.8/site-packages (from datasets) (1.5.3)\n",
      "Requirement already satisfied: xxhash in ./.local/lib/python3.8/site-packages (from datasets) (3.3.0)\n",
      "Requirement already satisfied: yarl<2.0,>=1.0 in ./.local/lib/python3.8/site-packages (from aiohttp->datasets) (1.9.2)\n",
      "Requirement already satisfied: charset-normalizer<4.0,>=2.0 in ./.local/lib/python3.8/site-packages (from aiohttp->datasets) (3.1.0)\n",
      "Requirement already satisfied: attrs>=17.3.0 in /usr/lib/python3/dist-packages (from aiohttp->datasets) (19.3.0)\n",
      "Requirement already satisfied: multidict<7.0,>=4.5 in ./.local/lib/python3.8/site-packages (from aiohttp->datasets) (6.0.4)\n",
      "Requirement already satisfied: aiosignal>=1.1.2 in ./.local/lib/python3.8/site-packages (from aiohttp->datasets) (1.3.1)\n",
      "Requirement already satisfied: frozenlist>=1.1.1 in ./.local/lib/python3.8/site-packages (from aiohttp->datasets) (1.4.0)\n",
      "Requirement already satisfied: async-timeout<5.0,>=4.0.0a3 in ./.local/lib/python3.8/site-packages (from aiohttp->datasets) (4.0.2)\n",
      "Requirement already satisfied: filelock in /usr/lib/python3/dist-packages (from huggingface-hub<1.0.0,>=0.14.0->datasets) (3.0.12)\n",
      "Requirement already satisfied: typing-extensions>=3.7.4.3 in ./.local/lib/python3.8/site-packages (from huggingface-hub<1.0.0,>=0.14.0->datasets) (4.5.0)\n",
      "Requirement already satisfied: urllib3<1.27,>=1.21.1 in /usr/lib/python3/dist-packages (from requests>=2.19.0->datasets) (1.25.8)\n",
      "Requirement already satisfied: idna<4,>=2.5 in /usr/lib/python3/dist-packages (from requests>=2.19.0->datasets) (2.8)\n",
      "Requirement already satisfied: certifi>=2017.4.17 in /usr/lib/python3/dist-packages (from requests>=2.19.0->datasets) (2019.11.28)\n",
      "Requirement already satisfied: pytz>=2020.1 in ./.local/lib/python3.8/site-packages (from pandas->datasets) (2022.7.1)\n",
      "Requirement already satisfied: python-dateutil>=2.8.1 in ./.local/lib/python3.8/site-packages (from pandas->datasets) (2.8.2)\n",
      "Requirement already satisfied: six>=1.5 in /usr/lib/python3/dist-packages (from python-dateutil>=2.8.1->pandas->datasets) (1.14.0)\n",
      "\n",
      "\u001b[1m[\u001b[0m\u001b[34;49mnotice\u001b[0m\u001b[1;39;49m]\u001b[0m\u001b[39;49m A new release of pip is available: \u001b[0m\u001b[31;49m23.0.1\u001b[0m\u001b[39;49m -> \u001b[0m\u001b[32;49m23.2.1\u001b[0m\n",
      "\u001b[1m[\u001b[0m\u001b[34;49mnotice\u001b[0m\u001b[1;39;49m]\u001b[0m\u001b[39;49m To update, run: \u001b[0m\u001b[32;49mpython3 -m pip install --upgrade pip\u001b[0m\n"
     ]
    }
   ],
   "source": [
    "import torch\n",
    "from torch import nn\n",
    "from torch.utils.data import DataLoader\n",
    "from torchvision import datasets\n",
    "from torchvision.transforms import ToTensor\n",
    "from sklearn.model_selection import train_test_split\n",
    "import requests\n",
    "import torch.nn as nn\n",
    "import torch.optim as optim\n",
    "import random\n",
    "!pip install datasets"
   ]
  },
  {
   "cell_type": "code",
   "execution_count": 2,
   "id": "89da1a40-458f-49fc-ae85-e6eb45283942",
   "metadata": {},
   "outputs": [
    {
     "name": "stderr",
     "output_type": "stream",
     "text": [
      "/home/ubuntu/.local/lib/python3.8/site-packages/pandas/core/computation/expressions.py:20: UserWarning: Pandas requires version '2.7.3' or newer of 'numexpr' (version '2.7.1' currently installed).\n",
      "  from pandas.core.computation.check import NUMEXPR_INSTALLED\n",
      "[nltk_data] Downloading package punkt to /home/ubuntu/nltk_data...\n",
      "[nltk_data]   Package punkt is already up-to-date!\n"
     ]
    }
   ],
   "source": [
    "from nltk.tokenize import sent_tokenize, word_tokenize\n",
    "from datasets import load_dataset\n",
    "import nltk\n",
    "nltk.download('punkt')\n",
    "\n",
    "dataset = load_dataset('cnn_dailymail', '3.0.0', split=\"train[:1500]\") \n",
    "\n",
    "train_data = dataset\n",
    "val_data = load_dataset('cnn_dailymail', '3.0.0', split=\"validation[:500]\") \n",
    "test_data = load_dataset('cnn_dailymail', '3.0.0', split=\"test[:500]\")  \n",
    "\n",
    "def preprocess_text(text):\n",
    "    sentences = sent_tokenize(text)\n",
    "    tokenized_sentences = [word_tokenize(sent) for sent in sentences]\n",
    "    return tokenized_sentences\n",
    "\n",
    "train_summaries = [example['highlights'] for example in train_data]\n",
    "train_texts = [example['article'] for example in train_data]\n",
    "\n",
    "val_summaries = [example['highlights'] for example in val_data]\n",
    "val_texts = [example['article'] for example in val_data]\n",
    "\n",
    "test_summaries = [example['highlights'] for example in test_data]\n",
    "test_texts = [example['article'] for example in test_data]"
   ]
  },
  {
   "cell_type": "code",
   "execution_count": 5,
   "id": "835fa8c5-28e1-4fb9-ba3a-958789d40d6f",
   "metadata": {},
   "outputs": [
    {
     "name": "stderr",
     "output_type": "stream",
     "text": [
      "[nltk_data] Downloading package punkt to /home/ubuntu/nltk_data...\n",
      "[nltk_data]   Package punkt is already up-to-date!\n"
     ]
    }
   ],
   "source": [
    "import nltk\n",
    "nltk.download('punkt')\n",
    "from nltk.tokenize import word_tokenize\n",
    "from collections import Counter\n",
    "import torch\n",
    "import torch.nn as nn\n",
    "from torch.utils.data import Dataset, DataLoader\n",
    "\n",
    "class CustomDataset(Dataset):\n",
    "    def __init__(self, sequences_input, sequences_target, max_length):\n",
    "        self.sequences_input = sequences_input\n",
    "        self.sequences_target = sequences_target\n",
    "        self.max_length = max_length\n",
    "\n",
    "    def __len__(self):\n",
    "        return len(self.sequences_input)\n",
    "\n",
    "    def __getitem__(self, index):\n",
    "        input_sequence = self.sequences_input[index]\n",
    "        target_summary = self.sequences_target[index]\n",
    "\n",
    "        input_sequence = self.pad_sequence(input_sequence, self.max_length)\n",
    "        target_summary = self.pad_sequence(target_summary, self.max_length)\n",
    "\n",
    "        input_tensor = torch.tensor(input_sequence, dtype=torch.long)\n",
    "        target_tensor = torch.tensor(target_summary, dtype=torch.long)\n",
    "\n",
    "        return input_tensor, target_tensor\n",
    "\n",
    "    def pad_sequence(self, sequence, max_length):\n",
    "        if len(sequence) < max_length:\n",
    "            sequence = sequence + [0] * (max_length - len(sequence))\n",
    "        else:\n",
    "            sequence = sequence[:max_length]\n",
    "        return sequence\n",
    "\n",
    "def sentence_to_sequence(sentence, vocab):\n",
    "    return [vocab[word] for word in sentence if word in vocab]\n",
    "\n",
    "import nltk\n",
    "from collections import Counter\n",
    "\n",
    "vocab_input = {}\n",
    "vocab_target = {}\n",
    "\n",
    "word_counter_input = Counter(word for text in train_texts for word in nltk.word_tokenize(text))\n",
    "word_counter_target = Counter(word for summary in train_summaries for word in nltk.word_tokenize(summary))\n",
    "\n",
    "for word, count in word_counter_input.items():\n",
    "    if word not in vocab_input:\n",
    "        vocab_input[word] = len(vocab_input)\n",
    "\n",
    "for word, count in word_counter_target.items():\n",
    "    if word not in vocab_target:\n",
    "        vocab_target[word] = len(vocab_target)\n",
    "\n",
    "train_sequences_input = [sentence_to_sequence(word_tokenize(text), vocab_input) for text in train_texts]\n",
    "val_sequences_input = [sentence_to_sequence(word_tokenize(text), vocab_input) for text in val_texts]\n",
    "test_sequences_input = [sentence_to_sequence(word_tokenize(text), vocab_input) for text in test_texts]\n",
    "\n",
    "train_sequences_target = [sentence_to_sequence(word_tokenize(summary), vocab_target) for summary in train_summaries]\n",
    "val_sequences_target = [sentence_to_sequence(word_tokenize(summary), vocab_target) for summary in val_summaries]\n",
    "test_sequences_target = [sentence_to_sequence(word_tokenize(summary), vocab_target) for summary in test_summaries]\n",
    "\n",
    "max_length = 128\n",
    "max_summary_length = 100\n",
    "\n",
    "train_dataset = CustomDataset(train_sequences_input, train_sequences_target, max_length)\n",
    "val_dataset = CustomDataset(val_sequences_input, val_sequences_target, max_length)\n",
    "test_dataset = CustomDataset(test_sequences_input, test_sequences_target, max_length)\n",
    "\n",
    "batch_size = 32\n",
    "\n",
    "train_loader = DataLoader(train_dataset, batch_size=batch_size, shuffle=True)\n",
    "val_loader = DataLoader(val_dataset, batch_size=batch_size)\n",
    "test_loader = DataLoader(test_dataset, batch_size=batch_size)\n",
    "\n",
    "class LSTMModel(nn.Module):\n",
    "    def __init__(self, input_dim, emb_dim, hid_dim, n_layers, dropout):\n",
    "        super(LSTMModel, self).__init__()\n",
    "        self.hid_dim = hid_dim\n",
    "        self.n_layers = n_layers\n",
    "        self.embedding = nn.Embedding(input_dim, emb_dim)\n",
    "        self.rnn = nn.LSTM(emb_dim, hid_dim, n_layers, batch_first=True, dropout=dropout)\n",
    "        self.fc_out = nn.Linear(hid_dim, input_dim)\n",
    "        self.dropout = nn.Dropout(dropout)\n",
    "\n",
    "    def forward(self, src):\n",
    "        embedded = self.dropout(self.embedding(src))\n",
    "        outputs, (hidden, cell) = self.rnn(embedded)\n",
    "        prediction = self.fc_out(outputs)\n",
    "        return prediction\n",
    "\n",
    "device = torch.device('cuda' if torch.cuda.is_available() else 'cpu')\n",
    "\n",
    "encoder_input_dim = len(vocab_input)\n",
    "decoder_output_dim = len(vocab_target)\n",
    "embedding_dim = 100\n",
    "hidden_dim = 256\n",
    "num_layers = 2\n",
    "dropout = 0.5\n",
    "\n",
    "lstm_model = LSTMModel(encoder_input_dim, embedding_dim, hidden_dim, num_layers, dropout).to(device)\n",
    "\n",
    "criterion = nn.NLLLoss()\n",
    "optimizer = torch.optim.Adam(lstm_model.parameters())"
   ]
  },
  {
   "cell_type": "markdown",
   "id": "0f6e7342-d175-44ea-aaad-9cc5d093aaaa",
   "metadata": {},
   "source": [
    "Epochs: 10"
   ]
  },
  {
   "cell_type": "code",
   "execution_count": 6,
   "id": "2b220163-2499-4a17-a89f-6f05eae665ed",
   "metadata": {},
   "outputs": [
    {
     "name": "stdout",
     "output_type": "stream",
     "text": [
      "Epoch [1/10] Train Loss: -7.9110 Validation Loss: -16.3016\n",
      "Epoch [2/10] Train Loss: -20.0703 Validation Loss: -28.1471\n",
      "Epoch [3/10] Train Loss: -30.8764 Validation Loss: -39.5064\n",
      "Epoch [4/10] Train Loss: -41.3964 Validation Loss: -50.6718\n",
      "Epoch [5/10] Train Loss: -51.9301 Validation Loss: -62.0538\n",
      "Epoch [6/10] Train Loss: -62.5856 Validation Loss: -73.4302\n",
      "Epoch [7/10] Train Loss: -73.2816 Validation Loss: -84.9255\n",
      "Epoch [8/10] Train Loss: -84.0687 Validation Loss: -96.4449\n",
      "Epoch [9/10] Train Loss: -94.7727 Validation Loss: -107.8425\n",
      "Epoch [10/10] Train Loss: -105.3832 Validation Loss: -119.1630\n"
     ]
    }
   ],
   "source": [
    "l1=[]\n",
    "l2=[]\n",
    "def train_model(model, dataloader, criterion, optimizer, device):\n",
    "    model.train()\n",
    "    total_loss = 0.0\n",
    "    for batch_inputs, batch_targets in dataloader:\n",
    "        torch.cuda.empty_cache()\n",
    "        batch_inputs, batch_targets = batch_inputs.to(device), batch_targets.to(device)\n",
    "        optimizer.zero_grad()\n",
    "        outputs = model(batch_inputs)\n",
    "        torch.cuda.empty_cache()\n",
    "        outputs = outputs.view(-1, outputs.size(2))\n",
    "        batch_targets = batch_targets.view(-1)\n",
    "        loss = criterion(outputs, batch_targets)\n",
    "        torch.cuda.empty_cache()\n",
    "        loss.backward()\n",
    "        optimizer.step()\n",
    "        total_loss += loss.item()\n",
    "        torch.cuda.empty_cache()\n",
    "    l1.append(total_loss / len(dataloader))\n",
    "    return total_loss / len(dataloader)\n",
    "\n",
    "\n",
    "def validate_model(model, dataloader, criterion, device):\n",
    "    model.eval()\n",
    "    total_loss = 0.0\n",
    "    with torch.no_grad():\n",
    "        for batch_inputs, batch_targets in dataloader:\n",
    "            torch.cuda.empty_cache()\n",
    "            batch_inputs, batch_targets = batch_inputs.to(device), batch_targets.to(device)\n",
    "            outputs = model(batch_inputs)\n",
    "            torch.cuda.empty_cache()\n",
    "            outputs = outputs.view(-1, outputs.size(2))\n",
    "            batch_targets = batch_targets.view(-1)\n",
    "            loss = criterion(outputs, batch_targets)\n",
    "            total_loss += loss.item()\n",
    "            torch.cuda.empty_cache()\n",
    "    l2.append(total_loss / len(dataloader))\n",
    "    return total_loss / len(dataloader)\n",
    "\n",
    "\n",
    "num_epochs = 10\n",
    "for epoch in range(num_epochs):\n",
    "    train_loss = train_model(lstm_model, train_loader, criterion, optimizer, device)\n",
    "    validation_loss = validate_model(lstm_model, val_loader, criterion, device)\n",
    "    torch.cuda.empty_cache()\n",
    "    print(f\"Epoch [{epoch + 1}/{num_epochs}] Train Loss: {train_loss:.4f} Validation Loss: {validation_loss:.4f}\")"
   ]
  },
  {
   "cell_type": "code",
   "execution_count": 7,
   "id": "e25fb4eb-4d98-4b2d-92f1-738bb6fa1a60",
   "metadata": {},
   "outputs": [
    {
     "name": "stdout",
     "output_type": "stream",
     "text": [
      "Test Accuracy: 74.326563\n"
     ]
    }
   ],
   "source": [
    "def evaluate_model(model, dataloader, device):\n",
    "    model.eval()\n",
    "    total_correct = 0\n",
    "    total_samples = 0\n",
    "\n",
    "    with torch.no_grad():\n",
    "        for batch_inputs, batch_targets in dataloader:\n",
    "            batch_inputs, batch_targets = batch_inputs.to(device), batch_targets.to(device)\n",
    "            outputs = model(batch_inputs)\n",
    "            _, predicted = torch.max(outputs, 2)\n",
    "            total_correct += (predicted == batch_targets).sum().item()\n",
    "            total_samples += batch_targets.numel()\n",
    "\n",
    "    accuracy = total_correct / total_samples\n",
    "    return accuracy\n",
    "\n",
    "accuracy = evaluate_model(lstm_model, test_loader, device)\n",
    "print(f\"Test Accuracy: {accuracy*100:.6f}\")"
   ]
  },
  {
   "cell_type": "code",
   "execution_count": 8,
   "id": "5d2ba8da-e8a7-4e58-86fb-806898ee667a",
   "metadata": {},
   "outputs": [
    {
     "name": "stdout",
     "output_type": "stream",
     "text": [
      "Validation Accuracy: 75.348438\n"
     ]
    }
   ],
   "source": [
    "def evaluate_model(model, dataloader, device):\n",
    "    model.eval()\n",
    "    total_correct = 0\n",
    "    total_samples = 0\n",
    "\n",
    "    with torch.no_grad():\n",
    "        for batch_inputs, batch_targets in dataloader:\n",
    "            batch_inputs, batch_targets = batch_inputs.to(device), batch_targets.to(device)\n",
    "            outputs = model(batch_inputs)\n",
    "            _, predicted = torch.max(outputs, 2)\n",
    "            total_correct += (predicted == batch_targets).sum().item()\n",
    "            total_samples += batch_targets.numel()\n",
    "\n",
    "    accuracy = total_correct / total_samples\n",
    "    return accuracy\n",
    "\n",
    "accuracy = evaluate_model(lstm_model, val_loader, device)\n",
    "print(f\"Validation Accuracy: {accuracy*100:.6f}\")"
   ]
  },
  {
   "cell_type": "code",
   "execution_count": 9,
   "id": "807bfc68-899d-4e2e-a20b-1671f158a037",
   "metadata": {},
   "outputs": [
    {
     "name": "stdout",
     "output_type": "stream",
     "text": [
      "Train Accuracy: 63.525000\n"
     ]
    }
   ],
   "source": [
    "def evaluate_model(model, dataloader, device):\n",
    "    model.eval()\n",
    "    total_correct = 0\n",
    "    total_samples = 0\n",
    "\n",
    "    with torch.no_grad():\n",
    "        for batch_inputs, batch_targets in dataloader:\n",
    "            batch_inputs, batch_targets = batch_inputs.to(device), batch_targets.to(device)\n",
    "            outputs = model(batch_inputs)\n",
    "            _, predicted = torch.max(outputs, 2)\n",
    "            total_correct += (predicted == batch_targets).sum().item()\n",
    "            total_samples += batch_targets.numel()\n",
    "\n",
    "    accuracy = total_correct / total_samples\n",
    "    return accuracy\n",
    "\n",
    "accuracy = evaluate_model(lstm_model, train_loader, device)\n",
    "print(f\"Train Accuracy: {accuracy*100:.6f}\")"
   ]
  },
  {
   "cell_type": "code",
   "execution_count": 10,
   "id": "2398975c-432d-4f55-acb3-48e0d8b46b49",
   "metadata": {},
   "outputs": [],
   "source": [
    "import matplotlib.pyplot as plt"
   ]
  },
  {
   "cell_type": "code",
   "execution_count": 11,
   "id": "2d437dfe-d51d-4994-b533-c0bdc9c78daf",
   "metadata": {},
   "outputs": [
    {
     "data": {
      "text/plain": [
       "Text(0.5, 0.98, 'LSTM MODEL')"
      ]
     },
     "execution_count": 11,
     "metadata": {},
     "output_type": "execute_result"
    },
    {
     "data": {
      "image/png": "[encoded data removed]",
      "text/plain": [
       "<Figure size 432x288 with 1 Axes>"
      ]
     },
     "metadata": {
      "needs_background": "light"
     },
     "output_type": "display_data"
    }
   ],
   "source": [
    "plt.plot(l1, label = \"Train_Loss\")\n",
    "plt.plot(l2, label = \"Validation_Loss\")\n",
    "plt.title(\"Loss Vs No.of Epochs\")\n",
    "plt.xlabel(\"No. of Epochs\")\n",
    "plt.ylabel(\"Loss\")\n",
    "plt.legend()\n",
    "plt.suptitle(\"LSTM MODEL\")"
   ]
  },
  {
   "cell_type": "markdown",
   "id": "daf72e95-1239-4fa0-8155-00ed68be9784",
   "metadata": {},
   "source": [
    "Epochs: 15"
   ]
  },
  {
   "cell_type": "code",
   "execution_count": 12,
   "id": "ea649b8e-e8b1-4dac-a0d7-df96271c113e",
   "metadata": {},
   "outputs": [
    {
     "name": "stdout",
     "output_type": "stream",
     "text": [
      "Epoch [1/15] Train Loss: -115.9530 Validation Loss: -130.4308\n",
      "Epoch [2/15] Train Loss: -126.4818 Validation Loss: -141.6795\n",
      "Epoch [3/15] Train Loss: -136.9790 Validation Loss: -152.8989\n",
      "Epoch [4/15] Train Loss: -147.4610 Validation Loss: -164.1046\n",
      "Epoch [5/15] Train Loss: -157.9262 Validation Loss: -175.2802\n",
      "Epoch [6/15] Train Loss: -168.3669 Validation Loss: -186.4678\n",
      "Epoch [7/15] Train Loss: -178.8038 Validation Loss: -197.6193\n",
      "Epoch [8/15] Train Loss: -189.2323 Validation Loss: -208.7691\n",
      "Epoch [9/15] Train Loss: -199.6495 Validation Loss: -219.9132\n",
      "Epoch [10/15] Train Loss: -210.0560 Validation Loss: -231.0457\n",
      "Epoch [11/15] Train Loss: -220.4720 Validation Loss: -242.1705\n",
      "Epoch [12/15] Train Loss: -230.8670 Validation Loss: -253.2918\n",
      "Epoch [13/15] Train Loss: -241.2530 Validation Loss: -264.4171\n",
      "Epoch [14/15] Train Loss: -251.6470 Validation Loss: -275.5291\n",
      "Epoch [15/15] Train Loss: -262.0229 Validation Loss: -286.6415\n"
     ]
    }
   ],
   "source": [
    "l3=[]\n",
    "l4=[]\n",
    "def train_model(model, dataloader, criterion, optimizer, device):\n",
    "    model.train()\n",
    "    total_loss = 0.0\n",
    "    for batch_inputs, batch_targets in dataloader:\n",
    "        torch.cuda.empty_cache()\n",
    "        batch_inputs, batch_targets = batch_inputs.to(device), batch_targets.to(device)\n",
    "        optimizer.zero_grad()\n",
    "        outputs = model(batch_inputs)\n",
    "        torch.cuda.empty_cache()\n",
    "        outputs = outputs.view(-1, outputs.size(2))\n",
    "        batch_targets = batch_targets.view(-1)\n",
    "        loss = criterion(outputs, batch_targets)\n",
    "        torch.cuda.empty_cache()\n",
    "        loss.backward()\n",
    "        optimizer.step()\n",
    "        total_loss += loss.item()\n",
    "        torch.cuda.empty_cache()\n",
    "    l3.append(total_loss / len(dataloader))\n",
    "    return total_loss / len(dataloader)\n",
    "\n",
    "\n",
    "def validate_model(model, dataloader, criterion, device):\n",
    "    model.eval()\n",
    "    total_loss = 0.0\n",
    "    with torch.no_grad():\n",
    "        for batch_inputs, batch_targets in dataloader:\n",
    "            torch.cuda.empty_cache()\n",
    "            batch_inputs, batch_targets = batch_inputs.to(device), batch_targets.to(device)\n",
    "            outputs = model(batch_inputs)\n",
    "            torch.cuda.empty_cache()\n",
    "            outputs = outputs.view(-1, outputs.size(2))\n",
    "            batch_targets = batch_targets.view(-1)\n",
    "            loss = criterion(outputs, batch_targets)\n",
    "            total_loss += loss.item()\n",
    "            torch.cuda.empty_cache()\n",
    "    l4.append(total_loss / len(dataloader))\n",
    "    return total_loss / len(dataloader)\n",
    "\n",
    "\n",
    "num_epochs = 15\n",
    "for epoch in range(num_epochs):\n",
    "    train_loss = train_model(lstm_model, train_loader, criterion, optimizer, device)\n",
    "    validation_loss = validate_model(lstm_model, val_loader, criterion, device)\n",
    "    torch.cuda.empty_cache()\n",
    "    print(f\"Epoch [{epoch + 1}/{num_epochs}] Train Loss: {train_loss:.4f} Validation Loss: {validation_loss:.4f}\")"
   ]
  },
  {
   "cell_type": "code",
   "execution_count": 13,
   "id": "ebdc517e-bdd7-4182-9ce8-818673a31077",
   "metadata": {},
   "outputs": [
    {
     "data": {
      "text/plain": [
       "Text(0.5, 0.98, 'LSTM MODEL')"
      ]
     },
     "execution_count": 13,
     "metadata": {},
     "output_type": "execute_result"
    },
    {
     "data": {
      "image/png": "[encoded data removed]",
      "text/plain": [
       "<Figure size 432x288 with 1 Axes>"
      ]
     },
     "metadata": {
      "needs_background": "light"
     },
     "output_type": "display_data"
    }
   ],
   "source": [
    "plt.plot(l3, label = \"Train_Loss\")\n",
    "plt.plot(l4, label = \"Validation_Loss\")\n",
    "plt.title(\"Loss Vs No.of Epochs\")\n",
    "plt.xlabel(\"No. of Epochs\")\n",
    "plt.ylabel(\"Loss\")\n",
    "plt.legend()\n",
    "plt.suptitle(\"LSTM MODEL\")"
   ]
  },
  {
   "cell_type": "markdown",
   "id": "4c4759e9-d613-48ba-8ccf-72e85fbc053c",
   "metadata": {},
   "source": [
    "Epochs: 20"
   ]
  },
  {
   "cell_type": "code",
   "execution_count": 14,
   "id": "414be314-0f5c-4f45-aa79-110527a85b63",
   "metadata": {},
   "outputs": [
    {
     "name": "stdout",
     "output_type": "stream",
     "text": [
      "Epoch [1/20] Train Loss: -272.4010 Validation Loss: -297.7482\n",
      "Epoch [2/20] Train Loss: -282.7807 Validation Loss: -308.8475\n",
      "Epoch [3/20] Train Loss: -293.1450 Validation Loss: -319.9450\n",
      "Epoch [4/20] Train Loss: -303.5259 Validation Loss: -331.0303\n",
      "Epoch [5/20] Train Loss: -313.8911 Validation Loss: -342.1273\n",
      "Epoch [6/20] Train Loss: -324.2482 Validation Loss: -353.2100\n",
      "Epoch [7/20] Train Loss: -334.6180 Validation Loss: -364.2979\n",
      "Epoch [8/20] Train Loss: -344.9641 Validation Loss: -375.3918\n",
      "Epoch [9/20] Train Loss: -355.3422 Validation Loss: -386.4710\n",
      "Epoch [10/20] Train Loss: -365.6958 Validation Loss: -397.5616\n",
      "Epoch [11/20] Train Loss: -376.0424 Validation Loss: -408.6356\n",
      "Epoch [12/20] Train Loss: -386.3805 Validation Loss: -419.7119\n",
      "Epoch [13/20] Train Loss: -396.7528 Validation Loss: -430.7935\n",
      "Epoch [14/20] Train Loss: -407.0978 Validation Loss: -441.8636\n",
      "Epoch [15/20] Train Loss: -417.4430 Validation Loss: -452.9427\n",
      "Epoch [16/20] Train Loss: -427.7976 Validation Loss: -464.0128\n",
      "Epoch [17/20] Train Loss: -438.1450 Validation Loss: -475.0871\n",
      "Epoch [18/20] Train Loss: -448.4929 Validation Loss: -486.1578\n",
      "Epoch [19/20] Train Loss: -458.8336 Validation Loss: -497.2311\n",
      "Epoch [20/20] Train Loss: -469.1698 Validation Loss: -508.3001\n"
     ]
    }
   ],
   "source": [
    "l5=[]\n",
    "l6=[]\n",
    "def train_model(model, dataloader, criterion, optimizer, device):\n",
    "    model.train()\n",
    "    total_loss = 0.0\n",
    "    for batch_inputs, batch_targets in dataloader:\n",
    "        torch.cuda.empty_cache()\n",
    "        batch_inputs, batch_targets = batch_inputs.to(device), batch_targets.to(device)\n",
    "        optimizer.zero_grad()\n",
    "        outputs = model(batch_inputs)\n",
    "        torch.cuda.empty_cache()\n",
    "        outputs = outputs.view(-1, outputs.size(2))\n",
    "        batch_targets = batch_targets.view(-1)\n",
    "        loss = criterion(outputs, batch_targets)\n",
    "        torch.cuda.empty_cache()\n",
    "        loss.backward()\n",
    "        optimizer.step()\n",
    "        total_loss += loss.item()\n",
    "        torch.cuda.empty_cache()\n",
    "    l5.append(total_loss / len(dataloader))\n",
    "    return total_loss / len(dataloader)\n",
    "\n",
    "\n",
    "def validate_model(model, dataloader, criterion, device):\n",
    "    model.eval()\n",
    "    total_loss = 0.0\n",
    "    with torch.no_grad():\n",
    "        for batch_inputs, batch_targets in dataloader:\n",
    "            torch.cuda.empty_cache()\n",
    "            batch_inputs, batch_targets = batch_inputs.to(device), batch_targets.to(device)\n",
    "            outputs = model(batch_inputs)\n",
    "            torch.cuda.empty_cache()\n",
    "            outputs = outputs.view(-1, outputs.size(2))\n",
    "            batch_targets = batch_targets.view(-1)\n",
    "            loss = criterion(outputs, batch_targets)\n",
    "            total_loss += loss.item()\n",
    "            torch.cuda.empty_cache()\n",
    "    l6.append(total_loss / len(dataloader))\n",
    "    return total_loss / len(dataloader)\n",
    "\n",
    "\n",
    "num_epochs = 20\n",
    "for epoch in range(num_epochs):\n",
    "    train_loss = train_model(lstm_model, train_loader, criterion, optimizer, device)\n",
    "    validation_loss = validate_model(lstm_model, val_loader, criterion, device)\n",
    "    torch.cuda.empty_cache()\n",
    "    print(f\"Epoch [{epoch + 1}/{num_epochs}] Train Loss: {train_loss:.4f} Validation Loss: {validation_loss:.4f}\")"
   ]
  },
  {
   "cell_type": "code",
   "execution_count": 15,
   "id": "6ad5e506-07c6-429c-a82d-6e938b581618",
   "metadata": {},
   "outputs": [
    {
     "data": {
      "text/plain": [
       "Text(0.5, 0.98, 'LSTM MODEL')"
      ]
     },
     "execution_count": 15,
     "metadata": {},
     "output_type": "execute_result"
    },
    {
     "data": {
      "image/png": "[encoded data removed]",
      "text/plain": [
       "<Figure size 432x288 with 1 Axes>"
      ]
     },
     "metadata": {
      "needs_background": "light"
     },
     "output_type": "display_data"
    }
   ],
   "source": [
    "plt.plot(l5, label = \"Train_Loss\")\n",
    "plt.plot(l6, label = \"Validation_Loss\")\n",
    "plt.title(\"Loss Vs No.of Epochs\")\n",
    "plt.xlabel(\"No. of Epochs\")\n",
    "plt.ylabel(\"Loss\")\n",
    "plt.legend()\n",
    "plt.suptitle(\"LSTM MODEL\")"
   ]
  },
  {
   "cell_type": "code",
   "execution_count": 16,
   "id": "aec1378f-fdee-4aa8-bbc1-96b403c0e3cf",
   "metadata": {},
   "outputs": [
    {
     "data": {
      "image/png": "[encoded data removed]",
      "text/plain": [
       "<Figure size 1080x360 with 3 Axes>"
      ]
     },
     "metadata": {
      "needs_background": "light"
     },
     "output_type": "display_data"
    }
   ],
   "source": [
    "fig, axes = plt.subplots(1, 3, figsize=(15, 5))\n",
    "\n",
    "axes[0].plot(l1, label='Train loss', color='red')\n",
    "axes[0].plot(l2, label='Validation loss', color='blue')\n",
    "axes[0].set_title('Epochs: 10')\n",
    "axes[0].set_xlabel('Epoch')\n",
    "axes[0].set_ylabel('Loss')\n",
    "axes[0].legend()\n",
    "\n",
    "axes[1].plot(l3, label='Train loss', color='red')\n",
    "axes[1].plot(l4, label='Validation loss', color='blue')\n",
    "axes[1].set_title('Epochs: 15')\n",
    "axes[1].set_xlabel('Epoch')\n",
    "axes[1].set_ylabel('Loss')\n",
    "axes[1].legend()\n",
    "\n",
    "axes[2].plot(l5, label='Train loss', color='red')\n",
    "axes[2].plot(l6, label='Validation loss', color='blue')\n",
    "axes[2].set_title('Epochs: 20')\n",
    "axes[2].set_xlabel('Epoch')\n",
    "axes[2].set_ylabel('Loss')\n",
    "axes[2].legend()\n",
    "\n",
    "plt.tight_layout()\n",
    "\n",
    "plt.show()"
   ]
  }
 ],
 "metadata": {
  "kernelspec": {
   "display_name": "Python 3",
   "language": "python",
   "name": "python3"
  },
  "language_info": {
   "codemirror_mode": {
    "name": "ipython",
    "version": 3
   },
   "file_extension": ".py",
   "mimetype": "text/x-python",
   "name": "python",
   "nbconvert_exporter": "python",
   "pygments_lexer": "ipython3",
   "version": "3.8.10"
  }
 },
 "nbformat": 4,
 "nbformat_minor": 5
}
